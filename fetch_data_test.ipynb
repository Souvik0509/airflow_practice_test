{
 "cells": [
  {
   "cell_type": "code",
   "execution_count": 1,
   "id": "e078e7cc",
   "metadata": {},
   "outputs": [
    {
     "name": "stdout",
     "output_type": "stream",
     "text": [
      "Hello World\n"
     ]
    }
   ],
   "source": [
    "print(\"Hello World\")"
   ]
  },
  {
   "cell_type": "code",
   "execution_count": 16,
   "id": "8c819d26",
   "metadata": {},
   "outputs": [
    {
     "ename": "IndentationError",
     "evalue": "unindent does not match any outer indentation level (<string>, line 40)",
     "output_type": "error",
     "traceback": [
      "  \u001b[36mFile \u001b[39m\u001b[32m<string>:40\u001b[39m\n\u001b[31m    \u001b[39m\u001b[31melse:\u001b[39m\n         ^\n\u001b[31mIndentationError\u001b[39m\u001b[31m:\u001b[39m unindent does not match any outer indentation level\n"
     ]
    }
   ],
   "source": [
    "import requests \n",
    "import pandas as pd \n",
    "from bs4 import BeautifulSoup\n",
    "\n",
    "headers = {\n",
    "    \"Referer\": \"https://www.amazon.com/\",\n",
    "    \"Sec-Ch-Ua\": '\"Chromium\";v=\"107\", \"Not=A?Brand\";v=\"24\"',\n",
    "    \"Sec-Ch-Ua-Mobile\": \"?0\",\n",
    "    \"Sec-Ch-Ua-Platform\": \"Windows\",\n",
    "    \"User-Agent\": \"Mozilla/5.0 (Windows NT 10.0; Win64; x64) \"\n",
    "                  \"AppleWebKit/537.36 (KHTML, like Gecko) \"\n",
    "                  \"Chrome/107.0.0.0 Safari/537.36\"\n",
    "}\n",
    "\n",
    "base_url = f\"https://www.amazon.com/s?k=data+engineering+books\"\n",
    "page = 2\n",
    "url = f\"{base_url}&page={page}\"\n",
    "response = requests.get(url, headers=headers)\n",
    "seen_titles = set()\n",
    "\n",
    "if response.status_code == 200:\n",
    "    soup = BeautifulSoup(response.content, \"html.parser\")\n",
    "    book_containers = soup.find_all(\"div\", {\"class\": \"s-result-item\"})\n",
    "    for books in book_containers: \n",
    "        title = book.find(\"span\", {\"class\": \"a-text-normal\"})\n",
    "        author = book.find(\"a\", {\"class\": \"a-size-base\"}) \n",
    "        price =  book.find(\"span\", {\"class\": \"a-price-whole\"})\n",
    "        rating = book.find(\"span\", {\"class\": \"a-icon-alt\"}) \n",
    "\n",
    "        if title and author and price and rating : \n",
    "            book_title = title.text.strip() \n",
    "            if book_title not in seen_titles:\n",
    "            seen_titles.add(book_title)\n",
    "            books.append({\n",
    "                                        \"Title\": book_title,\n",
    "                                        \"Author\": author.text.strip(),\n",
    "                                        \"Price\": price.text.strip(),\n",
    "                                        \"Rating\": rating.text.strip(),\n",
    "                                    })\n",
    " else:\n",
    "      print(\"Page is not loading properly\")\n",
    "\n",
    "print(books)\n",
    "\n",
    "# if response.status_code == 200:\n",
    "#     print(response.text[:2000])  \n",
    "#     soup = BeautifulSoup(response.text,\"lxml\")\n",
    "\n",
    "# books = []\n",
    "# for item in soup.select(\"div.s-search-result\"):\n",
    "#     title_tag = item.select_one(\"h2 a span\")\n",
    "#     price_tag = item.select_one(\"span.a-price > span.a-offscreen\")\n",
    "#     title = title_tag.get_text(strip=True) if title_tag else None\n",
    "#     price = price_tag.get_text(strip=True) if price_tag else None\n",
    "#     if title: \n",
    "#         books.append({\n",
    "#             \"Title\" : title,\n",
    "#             \"Price\" : price\n",
    "#         }) \n"
   ]
  },
  {
   "cell_type": "code",
   "execution_count": null,
   "id": "3f2f5f6e",
   "metadata": {},
   "outputs": [],
   "source": []
  }
 ],
 "metadata": {
  "kernelspec": {
   "display_name": "Python 3",
   "language": "python",
   "name": "python3"
  },
  "language_info": {
   "codemirror_mode": {
    "name": "ipython",
    "version": 3
   },
   "file_extension": ".py",
   "mimetype": "text/x-python",
   "name": "python",
   "nbconvert_exporter": "python",
   "pygments_lexer": "ipython3",
   "version": "3.13.3"
  }
 },
 "nbformat": 4,
 "nbformat_minor": 5
}
